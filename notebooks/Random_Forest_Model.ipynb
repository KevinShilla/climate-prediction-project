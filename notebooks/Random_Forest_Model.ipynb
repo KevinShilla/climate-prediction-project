{
 "cells": [
  {
   "cell_type": "code",
   "execution_count": 6,
   "metadata": {},
   "outputs": [
    {
     "name": "stdout",
     "output_type": "stream",
     "text": [
      "Mean Squared Error: 4.348868274254427e-24\n",
      "Feature Importances:\n",
      "                        Feature  Importance\n",
      "0           Energy_consumption    0.936203\n",
      "1            Energy_production    0.017960\n",
      "2                          GDP    0.016868\n",
      "4  Energy_intensity_per_capita    0.014927\n",
      "3                   Population    0.014043\n"
     ]
    }
   ],
   "source": [
    "import pandas as pd\n",
    "from sklearn.ensemble import RandomForestRegressor\n",
    "from sklearn.model_selection import train_test_split\n",
    "from sklearn.metrics import mean_squared_error\n",
    "\n",
    "# Load your data\n",
    "climate_df = pd.read_csv('../data/realistic_climate_change_impacts.csv')\n",
    "energy_df = pd.read_csv('../data/energy.csv')\n",
    "\n",
    "climate_df['Year'] = pd.to_datetime(climate_df['Date']).dt.year\n",
    "merged_df = pd.merge(climate_df, energy_df, on=['Country', 'Year'])\n",
    "\n",
    "# Define features and target\n",
    "features = ['Energy_consumption', 'Energy_production', 'GDP', 'Population', 'Energy_intensity_per_capita']\n",
    "target = 'CO2_emission'\n",
    "\n",
    "# Clean the data: drop rows with missing values in key columns\n",
    "merged_df_cleaned = merged_df.dropna(subset=features + [target])\n",
    "\n",
    "# Split data into features (X) and target (y)\n",
    "X = merged_df_cleaned[features]\n",
    "y = merged_df_cleaned[target]\n",
    "\n",
    "# Split the data into training and testing sets\n",
    "X_train, X_test, y_train, y_test = train_test_split(X, y, test_size=0.2, random_state=42)\n",
    "\n",
    "# Create and train a random forest regressor model\n",
    "rf_model = RandomForestRegressor(random_state=42)\n",
    "rf_model.fit(X_train, y_train)\n",
    "\n",
    "# Predict on the test set and evaluate\n",
    "y_pred = rf_model.predict(X_test)\n",
    "mse = mean_squared_error(y_test, y_pred)\n",
    "\n",
    "# Get feature importances\n",
    "feature_importances = rf_model.feature_importances_\n",
    "importance_df = pd.DataFrame({'Feature': features, 'Importance': feature_importances}).sort_values(by='Importance', ascending=False)\n",
    "\n",
    "print(\"Mean Squared Error:\", mse)\n",
    "print(\"Feature Importances:\\n\", importance_df)\n"
   ]
  }
 ],
 "metadata": {
  "kernelspec": {
   "display_name": "base",
   "language": "python",
   "name": "python3"
  },
  "language_info": {
   "codemirror_mode": {
    "name": "ipython",
    "version": 3
   },
   "file_extension": ".py",
   "mimetype": "text/x-python",
   "name": "python",
   "nbconvert_exporter": "python",
   "pygments_lexer": "ipython3",
   "version": "3.12.4"
  }
 },
 "nbformat": 4,
 "nbformat_minor": 2
}
